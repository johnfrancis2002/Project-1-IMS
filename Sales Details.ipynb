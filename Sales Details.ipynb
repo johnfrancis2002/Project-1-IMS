{
 "cells": [
  {
   "cell_type": "code",
   "execution_count": 4,
   "id": "c3c4bf37",
   "metadata": {},
   "outputs": [],
   "source": [
    "## Sales Details"
   ]
  },
  {
   "cell_type": "code",
   "execution_count": 5,
   "id": "afff6067",
   "metadata": {},
   "outputs": [],
   "source": [
    "import json\n",
    "\n",
    "file = open(\"Items Details.json\",'r')\n",
    "sales = file.read()\n",
    "file.close()\n",
    "\n",
    "sales_details = json.loads(sales)"
   ]
  },
  {
   "cell_type": "code",
   "execution_count": 6,
   "id": "401c861e",
   "metadata": {},
   "outputs": [
    {
     "data": {
      "text/plain": [
       "{'1001': {'Name of the Product': 'Mango juice',\n",
       "  'Quantity': 47,\n",
       "  'Price': 20.0,\n",
       "  'Expiry Date': '10/09/2021',\n",
       "  'Purchased Date': '03/09/2021'},\n",
       " '1002': {'Name of the Product': 'Apple juice',\n",
       "  'Quantity': 47,\n",
       "  'Price': 25.0,\n",
       "  'Expiry Date': '10/09/2021',\n",
       "  'Purchased Date': '03/09/2021'},\n",
       " '1003': {'Name of the Product': 'Sugarcane juice',\n",
       "  'Quantity': 47,\n",
       "  'Price': 15.0,\n",
       "  'Expiry Date': '10/09/2021',\n",
       "  'Purchased Date': '03/09/2021'},\n",
       " '1004': {'Name of the Product': 'Dairy Milk',\n",
       "  'Quantity': 72,\n",
       "  'Price': 10.0,\n",
       "  'Expiry Date': '30/09/2021',\n",
       "  'Purchased Date': '03/09/2021'},\n",
       " '1005': {'Name of the Product': 'Dark Chocolate',\n",
       "  'Quantity': 72,\n",
       "  'Price': 5.0,\n",
       "  'Expiry Date': '29/09/2021',\n",
       "  'Purchased Date': '03/09/2021'},\n",
       " '1006': {'Name of the Product': 'White Milk Chocolate',\n",
       "  'Quantity': 75,\n",
       "  'Price': 10.0,\n",
       "  'Expiry Date': '29/09/2021',\n",
       "  'Purchased Date': '03/09/2021'},\n",
       " '1007': {'Name of the Product': 'Chocolate Ice Cream',\n",
       "  'Quantity': 18,\n",
       "  'Price': 25.0,\n",
       "  'Expiry Date': '25/09/2021',\n",
       "  'Purchased Date': '03/09/2021'},\n",
       " '1008': {'Name of the Product': 'Mango Ice Cream',\n",
       "  'Quantity': 19,\n",
       "  'Price': 20.0,\n",
       "  'Expiry Date': '28/09/2021',\n",
       "  'Purchased Date': '03/09/2021'},\n",
       " '1009': {'Name of the Product': 'Orange Ice Cream',\n",
       "  'Quantity': 18,\n",
       "  'Price': 20.0,\n",
       "  'Expiry Date': '29/09/2021',\n",
       "  'Purchased Date': '03/09/2021'},\n",
       " '1010': {'Name of the Product': 'Orange juice',\n",
       "  'Quantity': 50,\n",
       "  'Price': 20.0,\n",
       "  'Expiry Date': '10/09/2021',\n",
       "  'Purchased Date': '03/09/2021'},\n",
       " '1011': {'Name of the Product': 'Bread',\n",
       "  'Quantity': 25,\n",
       "  'Price': 25.0,\n",
       "  'Expiry Date': '06/09/2021',\n",
       "  'Purchased Date': '03/09/2021'},\n",
       " '1012': {'Name of the Product': 'Rolls',\n",
       "  'Quantity': 25,\n",
       "  'Price': 30.0,\n",
       "  'Expiry Date': '05/09/2021',\n",
       "  'Purchased Date': '03/09/2021'},\n",
       " '1013': {'Name of the Product': 'Chocolate Cake',\n",
       "  'Quantity': 50,\n",
       "  'Price': 150.0,\n",
       "  'Expiry Date': '04/09/2021',\n",
       "  'Purchased Date': '03/09/2021'},\n",
       " '1014': {'Name of the Product': 'Rainbow Cake',\n",
       "  'Quantity': 50,\n",
       "  'Price': 400.0,\n",
       "  'Expiry Date': '04/09/2021',\n",
       "  'Purchased Date': '03/09/2021'},\n",
       " '1015': {'Name of the Product': 'Tomato Lays Chips',\n",
       "  'Quantity': 100,\n",
       "  'Price': 20.0,\n",
       "  'Expiry Date': '30/09/2021',\n",
       "  'Purchased Date': '03/09/2021'},\n",
       " '1016': {'Name of the Product': 'Onion Lays Chips',\n",
       "  'Quantity': 100,\n",
       "  'Price': 20.0,\n",
       "  'Expiry Date': '30/09/2021',\n",
       "  'Purchased Date': '03/09/2021'},\n",
       " '1017': {'Name of the Product': 'Small Packet Condiments',\n",
       "  'Quantity': 65.0,\n",
       "  'Price': 75.0,\n",
       "  'Expiry Date': '27/09/2021',\n",
       "  'Purchased Date': '03/09/2021'},\n",
       " '1018': {'Name of the Product': 'Large Packet Condiments',\n",
       "  'Quantity': 50,\n",
       "  'Price': 150.0,\n",
       "  'Expiry Date': '28/09/2021',\n",
       "  'Purchased Date': '03/09/2021'},\n",
       " '1019': {'Name of the Product': 'Tomato Sauces',\n",
       "  'Quantity': 150,\n",
       "  'Price': 50.0,\n",
       "  'Expiry Date': '29/09/2021',\n",
       "  'Purchased Date': '03/09/2021'},\n",
       " '1020': {'Name of the Product': 'Peanut',\n",
       "  'Quantity': 100,\n",
       "  'Price': 100.0,\n",
       "  'Expiry Date': '27/09/2021',\n",
       "  'Purchased Date': '03/09/2021'},\n",
       " '1021': {'Name of the Product': 'Almond',\n",
       "  'Quantity': 50,\n",
       "  'Price': 350.0,\n",
       "  'Expiry Date': '30/09/2021',\n",
       "  'Purchased Date': '03/09/2021'}}"
      ]
     },
     "execution_count": 6,
     "metadata": {},
     "output_type": "execute_result"
    }
   ],
   "source": [
    "sales_details"
   ]
  },
  {
   "cell_type": "code",
   "execution_count": 7,
   "id": "a36adea5",
   "metadata": {},
   "outputs": [],
   "source": [
    "## Purchase"
   ]
  },
  {
   "cell_type": "code",
   "execution_count": 8,
   "id": "c0d933d9",
   "metadata": {},
   "outputs": [],
   "source": [
    "import time"
   ]
  },
  {
   "cell_type": "code",
   "execution_count": 65,
   "id": "b5a6da22",
   "metadata": {},
   "outputs": [],
   "source": [
    "## Defining the Dictionary for Sales Details"
   ]
  },
  {
   "cell_type": "code",
   "execution_count": 16,
   "id": "20fab869",
   "metadata": {},
   "outputs": [],
   "source": [
    "sales_storage = { 10001: {\"Name of the Product\": \"Apple juice\", \"Quantity\": 2, \"Price\": 25.00, \"Total Product Amount\": 50.00, \"Billing Amount\": 56.00, \"Time at Purchased\" : \"Sat Sep  4 13:21:42 2021\" }}"
   ]
  },
  {
   "cell_type": "code",
   "execution_count": 17,
   "id": "4507d9ad",
   "metadata": {
    "scrolled": true
   },
   "outputs": [
    {
     "data": {
      "text/plain": [
       "{10001: {'Name of the Product': 'Apple juice',\n",
       "  'Quantity': 2,\n",
       "  'Price': 25.0,\n",
       "  'Total Product Amount': 50.0,\n",
       "  'Billing Amount': 56.0,\n",
       "  'Time at Purchased': 'Sat Sep  4 13:21:42 2021'}}"
      ]
     },
     "execution_count": 17,
     "metadata": {},
     "output_type": "execute_result"
    }
   ],
   "source": [
    "sales_storage"
   ]
  },
  {
   "cell_type": "code",
   "execution_count": 18,
   "id": "f0af1d96",
   "metadata": {},
   "outputs": [],
   "source": [
    "sales_json = json.dumps(sales_storage)"
   ]
  },
  {
   "cell_type": "code",
   "execution_count": 19,
   "id": "6e9e5a54",
   "metadata": {
    "scrolled": true
   },
   "outputs": [
    {
     "data": {
      "text/plain": [
       "'{\"10001\": {\"Name of the Product\": \"Apple juice\", \"Quantity\": 2, \"Price\": 25.0, \"Total Product Amount\": 50.0, \"Billing Amount\": 56.0, \"Time at Purchased\": \"Sat Sep  4 13:21:42 2021\"}}'"
      ]
     },
     "execution_count": 19,
     "metadata": {},
     "output_type": "execute_result"
    }
   ],
   "source": [
    "sales_json"
   ]
  },
  {
   "cell_type": "code",
   "execution_count": 20,
   "id": "265ffbc1",
   "metadata": {},
   "outputs": [],
   "source": [
    "file = open(\"Sales Details.json\",\"w\")\n",
    "file.write(sales_json)\n",
    "file.close()"
   ]
  },
  {
   "cell_type": "code",
   "execution_count": 21,
   "id": "89a7a6c5",
   "metadata": {},
   "outputs": [],
   "source": [
    "file = open(\"sales Details.json\",\"r\")\n",
    "sale = file.read()\n",
    "file.close()\n",
    "\n",
    "sales_storage = json.loads(sale)"
   ]
  },
  {
   "cell_type": "code",
   "execution_count": 22,
   "id": "0f2b85b6",
   "metadata": {
    "scrolled": true
   },
   "outputs": [
    {
     "data": {
      "text/plain": [
       "{'10001': {'Name of the Product': 'Apple juice',\n",
       "  'Quantity': 2,\n",
       "  'Price': 25.0,\n",
       "  'Total Product Amount': 50.0,\n",
       "  'Billing Amount': 56.0,\n",
       "  'Time at Purchased': 'Sat Sep  4 13:21:42 2021'}}"
      ]
     },
     "execution_count": 22,
     "metadata": {},
     "output_type": "execute_result"
    }
   ],
   "source": [
    "sales_storage"
   ]
  },
  {
   "cell_type": "code",
   "execution_count": 60,
   "id": "ec24eb33",
   "metadata": {},
   "outputs": [
    {
     "name": "stdout",
     "output_type": "stream",
     "text": [
      "Greetings for Choosing our Shop\n",
      "_______________________________\n",
      "Enter the Total number of Product: 2\n",
      "*************************************************\n",
      "\n",
      "Enter the Product ID: 1009\n",
      "Enter the Number of Quantity: 1\n",
      "*************************************************\n",
      "Product  1\n",
      "\n",
      "1. Name of the Product:  Orange Ice Cream\n",
      "2. price of the Product:  20.0\n",
      "3. Total Product Amount:  20.0\n",
      "4. GST of Product:  2.4\n",
      "---------------------------------------------------\n",
      "                  Billing Amount:  22.4\n",
      "***************************************************\n",
      "       Time of Purchase is:  Mon Sep  6 16:16:44 2021\n",
      "\n",
      "Enter the Product ID: 1006\n",
      "Enter the Number of Quantity: 1\n",
      "*************************************************\n",
      "Product  2\n",
      "\n",
      "1. Name of the Product:  White Milk Chocolate\n",
      "2. price of the Product:  10.0\n",
      "3. Total Product Amount:  10.0\n",
      "4. GST of Product:  1.2\n",
      "---------------------------------------------------\n",
      "                  Billing Amount:  11.2\n",
      "***************************************************\n",
      "       Time of Purchase is:  Mon Sep  6 16:16:50 2021\n",
      ".......................................................\n",
      "\n",
      "            Total amount is :  33.599999999999994\n",
      "            10% Discount for Choosing our Shop\n",
      "            Total amount to Pay for the Products is:  33.263999999999996\n",
      "\n",
      "----------------------------------------------------------------------------------------- \n",
      " Thank's for Visiting and Purchasing the Products, Visit again to get more Discount...! \n"
     ]
    }
   ],
   "source": [
    "total = []\n",
    "\n",
    "print(\"Greetings for Choosing our Shop\")\n",
    "print(\"_______________________________\")\n",
    "    \n",
    "no_product = int(input(\"Enter the Total number of Product: \"))\n",
    "print(\"*************************************************\")\n",
    "no_product = no_product + 1\n",
    "\n",
    "for i in range(1,no_product,1):\n",
    "    pur_product = input(\"\\nEnter the Product ID: \")\n",
    "    \n",
    "        \n",
    "    if (pur_product in sales_details.keys()):\n",
    "            \n",
    "        pur_quantity = int(input(\"Enter the Number of Quantity: \"))\n",
    "        print(\"*************************************************\")\n",
    "        sales_id = str((10001 + (len(sales_storage))))\n",
    "        print(\"Product \",i)\n",
    "        print(\"\\n1. Name of the Product: \", sales_details[pur_product]['Name of the Product'])\n",
    "        print(\"2. price of the Product: \", sales_details[pur_product]['Price'])\n",
    "        total_amount = sales_details[pur_product]['Price'] * pur_quantity\n",
    "        print(\"3. Total Product Amount: \", total_amount)\n",
    "        gst_amount = 0.12 * total_amount\n",
    "        print(\"4. GST of Product: \", gst_amount)\n",
    "        billing_amount = total_amount + gst_amount\n",
    "        print(\"---------------------------------------------------\")\n",
    "        print(\"                  Billing Amount: \", billing_amount)\n",
    "        print(\"***************************************************\")\n",
    "    \n",
    "        total.append(billing_amount)\n",
    "        update_time = time.ctime()\n",
    "    \n",
    "        print(\"       Time of Purchase is: \", update_time)\n",
    "    \n",
    "        sales_details[pur_product]['Quantity'] = sales_details[pur_product]['Quantity'] - pur_quantity\n",
    "    \n",
    "        sales_storage[sales_id] = {'Name of the Product': sales_details[pur_product]['Name of the Product'], 'Quantity': pur_quantity, 'Price': sales_details[pur_product]['Price'], 'Total Product Amount': total_amount, 'Billing Amount': billing_amount, 'Time at Purchased' : update_time}\n",
    "    \n",
    "        sales = json.dumps(sales_details)\n",
    "    \n",
    "        file = open(\"Items Details.json\",'w')\n",
    "        file.write(sales)\n",
    "        file.close()\n",
    "    \n",
    "    else:\n",
    "            print(\"Enter the Valid Product ID\")\n",
    "            no_product = no_product + 1\n",
    "            break\n",
    "    \n",
    "    \n",
    "print(\".......................................................\\n\")\n",
    "s = 0\n",
    "for j in total:\n",
    "    s = j + s\n",
    "\n",
    "print(\"            Total amount is : \",s)\n",
    "discount = print(\"            10% Discount for Choosing our Shop\")\n",
    "m = s * 0.01\n",
    "total_amount = s - m\n",
    "print(\"            Total amount to Pay for the Products is: \",total_amount)\n",
    "print(\"\\n----------------------------------------------------------------------------------------- \")\n",
    "print(\" Thank's for Visiting and Purchasing the Products, Visit again to get more Discount...! \")"
   ]
  },
  {
   "cell_type": "code",
   "execution_count": 61,
   "id": "f547729e",
   "metadata": {},
   "outputs": [],
   "source": [
    "## Sales Details"
   ]
  },
  {
   "cell_type": "code",
   "execution_count": 62,
   "id": "30bfbb97",
   "metadata": {},
   "outputs": [
    {
     "data": {
      "text/plain": [
       "{'10001': {'Name of the Product': 'Apple juice',\n",
       "  'Quantity': 2,\n",
       "  'Price': 25.0,\n",
       "  'Total Product Amount': 50.0,\n",
       "  'Billing Amount': 56.0,\n",
       "  'Time at Purchased': 'Sat Sep  4 13:21:42 2021'},\n",
       " '10002': {'Name of the Product': 'White Milk Chocolate',\n",
       "  'Quantity': 2,\n",
       "  'Price': 10.0,\n",
       "  'Total Product Amount': 20.0,\n",
       "  'Billing Amount': 22.4,\n",
       "  'Time at Purchased': 'Mon Sep  6 14:56:23 2021'},\n",
       " '10003': {'Name of the Product': 'Orange juice',\n",
       "  'Quantity': 1,\n",
       "  'Price': 20.0,\n",
       "  'Total Product Amount': 20.0,\n",
       "  'Billing Amount': 22.4,\n",
       "  'Time at Purchased': 'Mon Sep  6 14:56:36 2021'},\n",
       " '10004': {'Name of the Product': 'Mango Ice Cream',\n",
       "  'Quantity': 1,\n",
       "  'Price': 20.0,\n",
       "  'Total Product Amount': 20.0,\n",
       "  'Billing Amount': 22.4,\n",
       "  'Time at Purchased': 'Mon Sep  6 15:13:19 2021'},\n",
       " '10005': {'Name of the Product': 'Dairy Milk',\n",
       "  'Quantity': 1,\n",
       "  'Price': 10.0,\n",
       "  'Total Product Amount': 10.0,\n",
       "  'Billing Amount': 11.2,\n",
       "  'Time at Purchased': 'Mon Sep  6 15:13:29 2021'},\n",
       " '10006': {'Name of the Product': 'Small Packet Condiments',\n",
       "  'Quantity': 1,\n",
       "  'Price': 75.0,\n",
       "  'Total Product Amount': 75.0,\n",
       "  'Billing Amount': 84.0,\n",
       "  'Time at Purchased': 'Mon Sep  6 15:18:48 2021'},\n",
       " '10007': {'Name of the Product': 'Rainbow Cake',\n",
       "  'Quantity': 2,\n",
       "  'Price': 400.0,\n",
       "  'Total Product Amount': 800.0,\n",
       "  'Billing Amount': 896.0,\n",
       "  'Time at Purchased': 'Mon Sep  6 15:18:57 2021'},\n",
       " '10008': {'Name of the Product': 'Rainbow Cake',\n",
       "  'Quantity': 1,\n",
       "  'Price': 400.0,\n",
       "  'Total Product Amount': 400.0,\n",
       "  'Billing Amount': 448.0,\n",
       "  'Time at Purchased': 'Mon Sep  6 15:20:02 2021'},\n",
       " '10009': {'Name of the Product': 'Rolls',\n",
       "  'Quantity': 2,\n",
       "  'Price': 30.0,\n",
       "  'Total Product Amount': 60.0,\n",
       "  'Billing Amount': 67.2,\n",
       "  'Time at Purchased': 'Mon Sep  6 15:20:07 2021'},\n",
       " '10010': {'Name of the Product': 'Mango Ice Cream',\n",
       "  'Quantity': 1,\n",
       "  'Price': 20.0,\n",
       "  'Total Product Amount': 20.0,\n",
       "  'Billing Amount': 22.4,\n",
       "  'Time at Purchased': 'Mon Sep  6 15:23:09 2021'},\n",
       " '10011': {'Name of the Product': 'Rolls',\n",
       "  'Quantity': 2,\n",
       "  'Price': 30.0,\n",
       "  'Total Product Amount': 60.0,\n",
       "  'Billing Amount': 67.2,\n",
       "  'Time at Purchased': 'Mon Sep  6 15:25:24 2021'},\n",
       " '10012': {'Name of the Product': 'Tomato Sauces',\n",
       "  'Quantity': 1,\n",
       "  'Price': 50.0,\n",
       "  'Total Product Amount': 50.0,\n",
       "  'Billing Amount': 56.0,\n",
       "  'Time at Purchased': 'Mon Sep  6 15:25:32 2021'},\n",
       " '10013': {'Name of the Product': 'Orange Ice Cream',\n",
       "  'Quantity': 1,\n",
       "  'Price': 20.0,\n",
       "  'Total Product Amount': 20.0,\n",
       "  'Billing Amount': 22.4,\n",
       "  'Time at Purchased': 'Mon Sep  6 16:09:21 2021'},\n",
       " '10014': {'Name of the Product': 'Apple juice',\n",
       "  'Quantity': 1,\n",
       "  'Price': 25.0,\n",
       "  'Total Product Amount': 25.0,\n",
       "  'Billing Amount': 28.0,\n",
       "  'Time at Purchased': 'Mon Sep  6 16:11:47 2021'},\n",
       " '10015': {'Name of the Product': 'Mango Ice Cream',\n",
       "  'Quantity': 1,\n",
       "  'Price': 20.0,\n",
       "  'Total Product Amount': 20.0,\n",
       "  'Billing Amount': 22.4,\n",
       "  'Time at Purchased': 'Mon Sep  6 16:11:53 2021'},\n",
       " '10016': {'Name of the Product': 'Dairy Milk',\n",
       "  'Quantity': 1,\n",
       "  'Price': 10.0,\n",
       "  'Total Product Amount': 10.0,\n",
       "  'Billing Amount': 11.2,\n",
       "  'Time at Purchased': 'Mon Sep  6 16:15:44 2021'},\n",
       " '10017': {'Name of the Product': 'Mango Ice Cream',\n",
       "  'Quantity': 1,\n",
       "  'Price': 20.0,\n",
       "  'Total Product Amount': 20.0,\n",
       "  'Billing Amount': 22.4,\n",
       "  'Time at Purchased': 'Mon Sep  6 16:15:52 2021'},\n",
       " '10018': {'Name of the Product': 'Orange Ice Cream',\n",
       "  'Quantity': 1,\n",
       "  'Price': 20.0,\n",
       "  'Total Product Amount': 20.0,\n",
       "  'Billing Amount': 22.4,\n",
       "  'Time at Purchased': 'Mon Sep  6 16:16:44 2021'},\n",
       " '10019': {'Name of the Product': 'White Milk Chocolate',\n",
       "  'Quantity': 1,\n",
       "  'Price': 10.0,\n",
       "  'Total Product Amount': 10.0,\n",
       "  'Billing Amount': 11.2,\n",
       "  'Time at Purchased': 'Mon Sep  6 16:16:50 2021'}}"
      ]
     },
     "execution_count": 62,
     "metadata": {},
     "output_type": "execute_result"
    }
   ],
   "source": [
    "sales_storage"
   ]
  },
  {
   "cell_type": "code",
   "execution_count": 63,
   "id": "fd95a83f",
   "metadata": {},
   "outputs": [],
   "source": [
    "items = json.dumps(sales_storage)\n",
    "\n",
    "file = open(\"Sales Details.json\",\"w\")\n",
    "file.write(items)\n",
    "file.close()"
   ]
  },
  {
   "cell_type": "code",
   "execution_count": 64,
   "id": "5f513efa",
   "metadata": {
    "scrolled": true
   },
   "outputs": [
    {
     "data": {
      "text/plain": [
       "'{\"10001\": {\"Name of the Product\": \"Apple juice\", \"Quantity\": 2, \"Price\": 25.0, \"Total Product Amount\": 50.0, \"Billing Amount\": 56.0, \"Time at Purchased\": \"Sat Sep  4 13:21:42 2021\"}, \"10002\": {\"Name of the Product\": \"White Milk Chocolate\", \"Quantity\": 2, \"Price\": 10.0, \"Total Product Amount\": 20.0, \"Billing Amount\": 22.4, \"Time at Purchased\": \"Mon Sep  6 14:56:23 2021\"}, \"10003\": {\"Name of the Product\": \"Orange juice\", \"Quantity\": 1, \"Price\": 20.0, \"Total Product Amount\": 20.0, \"Billing Amount\": 22.4, \"Time at Purchased\": \"Mon Sep  6 14:56:36 2021\"}, \"10004\": {\"Name of the Product\": \"Mango Ice Cream\", \"Quantity\": 1, \"Price\": 20.0, \"Total Product Amount\": 20.0, \"Billing Amount\": 22.4, \"Time at Purchased\": \"Mon Sep  6 15:13:19 2021\"}, \"10005\": {\"Name of the Product\": \"Dairy Milk\", \"Quantity\": 1, \"Price\": 10.0, \"Total Product Amount\": 10.0, \"Billing Amount\": 11.2, \"Time at Purchased\": \"Mon Sep  6 15:13:29 2021\"}, \"10006\": {\"Name of the Product\": \"Small Packet Condiments\", \"Quantity\": 1, \"Price\": 75.0, \"Total Product Amount\": 75.0, \"Billing Amount\": 84.0, \"Time at Purchased\": \"Mon Sep  6 15:18:48 2021\"}, \"10007\": {\"Name of the Product\": \"Rainbow Cake\", \"Quantity\": 2, \"Price\": 400.0, \"Total Product Amount\": 800.0, \"Billing Amount\": 896.0, \"Time at Purchased\": \"Mon Sep  6 15:18:57 2021\"}, \"10008\": {\"Name of the Product\": \"Rainbow Cake\", \"Quantity\": 1, \"Price\": 400.0, \"Total Product Amount\": 400.0, \"Billing Amount\": 448.0, \"Time at Purchased\": \"Mon Sep  6 15:20:02 2021\"}, \"10009\": {\"Name of the Product\": \"Rolls\", \"Quantity\": 2, \"Price\": 30.0, \"Total Product Amount\": 60.0, \"Billing Amount\": 67.2, \"Time at Purchased\": \"Mon Sep  6 15:20:07 2021\"}, \"10010\": {\"Name of the Product\": \"Mango Ice Cream\", \"Quantity\": 1, \"Price\": 20.0, \"Total Product Amount\": 20.0, \"Billing Amount\": 22.4, \"Time at Purchased\": \"Mon Sep  6 15:23:09 2021\"}, \"10011\": {\"Name of the Product\": \"Rolls\", \"Quantity\": 2, \"Price\": 30.0, \"Total Product Amount\": 60.0, \"Billing Amount\": 67.2, \"Time at Purchased\": \"Mon Sep  6 15:25:24 2021\"}, \"10012\": {\"Name of the Product\": \"Tomato Sauces\", \"Quantity\": 1, \"Price\": 50.0, \"Total Product Amount\": 50.0, \"Billing Amount\": 56.0, \"Time at Purchased\": \"Mon Sep  6 15:25:32 2021\"}, \"10013\": {\"Name of the Product\": \"Orange Ice Cream\", \"Quantity\": 1, \"Price\": 20.0, \"Total Product Amount\": 20.0, \"Billing Amount\": 22.4, \"Time at Purchased\": \"Mon Sep  6 16:09:21 2021\"}, \"10014\": {\"Name of the Product\": \"Apple juice\", \"Quantity\": 1, \"Price\": 25.0, \"Total Product Amount\": 25.0, \"Billing Amount\": 28.0, \"Time at Purchased\": \"Mon Sep  6 16:11:47 2021\"}, \"10015\": {\"Name of the Product\": \"Mango Ice Cream\", \"Quantity\": 1, \"Price\": 20.0, \"Total Product Amount\": 20.0, \"Billing Amount\": 22.4, \"Time at Purchased\": \"Mon Sep  6 16:11:53 2021\"}, \"10016\": {\"Name of the Product\": \"Dairy Milk\", \"Quantity\": 1, \"Price\": 10.0, \"Total Product Amount\": 10.0, \"Billing Amount\": 11.2, \"Time at Purchased\": \"Mon Sep  6 16:15:44 2021\"}, \"10017\": {\"Name of the Product\": \"Mango Ice Cream\", \"Quantity\": 1, \"Price\": 20.0, \"Total Product Amount\": 20.0, \"Billing Amount\": 22.4, \"Time at Purchased\": \"Mon Sep  6 16:15:52 2021\"}, \"10018\": {\"Name of the Product\": \"Orange Ice Cream\", \"Quantity\": 1, \"Price\": 20.0, \"Total Product Amount\": 20.0, \"Billing Amount\": 22.4, \"Time at Purchased\": \"Mon Sep  6 16:16:44 2021\"}, \"10019\": {\"Name of the Product\": \"White Milk Chocolate\", \"Quantity\": 1, \"Price\": 10.0, \"Total Product Amount\": 10.0, \"Billing Amount\": 11.2, \"Time at Purchased\": \"Mon Sep  6 16:16:50 2021\"}}'"
      ]
     },
     "execution_count": 64,
     "metadata": {},
     "output_type": "execute_result"
    }
   ],
   "source": [
    "items"
   ]
  }
 ],
 "metadata": {
  "kernelspec": {
   "display_name": "Python 3",
   "language": "python",
   "name": "python3"
  },
  "language_info": {
   "codemirror_mode": {
    "name": "ipython",
    "version": 3
   },
   "file_extension": ".py",
   "mimetype": "text/x-python",
   "name": "python",
   "nbconvert_exporter": "python",
   "pygments_lexer": "ipython3",
   "version": "3.8.8"
  }
 },
 "nbformat": 4,
 "nbformat_minor": 5
}
