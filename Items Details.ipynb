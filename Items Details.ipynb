{
 "cells": [
  {
   "cell_type": "code",
   "execution_count": 3,
   "id": "181d0a00",
   "metadata": {},
   "outputs": [],
   "source": [
    "## Welcome to Inventory Mangaement System"
   ]
  },
  {
   "cell_type": "code",
   "execution_count": 4,
   "id": "7854135e",
   "metadata": {},
   "outputs": [],
   "source": [
    "items = { 1001 : {\"Name of the Product\":\"Mango juice\"            , \"Quantity\":50 , \"Price\":20.00 , \"Expiry Date\":\"10/09/2021\", \"Purchased Date\":\"03/09/2021\"},\n",
    "          1002 : {\"Name of the Product\":\"Apple juice\"            , \"Quantity\":50 , \"Price\":25.00 , \"Expiry Date\":\"10/09/2021\", \"Purchased Date\":\"03/09/2021\"},\n",
    "          1003 : {\"Name of the Product\":\"Sugarcane juice\"        , \"Quantity\":50 , \"Price\":15.00 , \"Expiry Date\":\"10/09/2021\", \"Purchased Date\":\"03/09/2021\"},\n",
    "          1004 : {\"Name of the Product\":\"Dairy Milk\"             , \"Quantity\":75 , \"Price\":10.00 , \"Expiry Date\":\"30/09/2021\", \"Purchased Date\":\"03/09/2021\"},\n",
    "          1005 : {\"Name of the Product\":\"Dark Chocolate\"         , \"Quantity\":75 , \"Price\":5.00  , \"Expiry Date\":\"29/09/2021\", \"Purchased Date\":\"03/09/2021\"},\n",
    "          1006 : {\"Name of the Product\":\"White Milk Chocolate\"   , \"Quantity\":75 , \"Price\":10.00 , \"Expiry Date\":\"29/09/2021\", \"Purchased Date\":\"03/09/2021\"},\n",
    "          1007 : {\"Name of the Product\":\"Chocolate Ice Cream\"    , \"Quantity\":20 , \"Price\":25.00 , \"Expiry Date\":\"25/09/2021\", \"Purchased Date\":\"03/09/2021\"},\n",
    "          1008 : {\"Name of the Product\":\"Mango Ice Cream\"        , \"Quantity\":20 , \"Price\":20.00 , \"Expiry Date\":\"28/09/2021\", \"Purchased Date\":\"03/09/2021\"},\n",
    "          1009 : {\"Name of the Product\":\"Orange Ice Cream\"       , \"Quantity\":20 , \"Price\":20.00 , \"Expiry Date\":\"29/09/2021\", \"Purchased Date\":\"03/09/2021\"},\n",
    "          1010 : {\"Name of the Product\":\"Orange juice\"           , \"Quantity\":50 , \"Price\":20.00 , \"Expiry Date\":\"10/09/2021\", \"Purchased Date\":\"03/09/2021\"},\n",
    "          1011 : {\"Name of the Product\":\"Bread\"                  , \"Quantity\":25 , \"Price\":25.00 , \"Expiry Date\":\"06/09/2021\", \"Purchased Date\":\"03/09/2021\"},\n",
    "          1012 : {\"Name of the Product\":\"Rolls\"                  , \"Quantity\":25 , \"Price\":30.00 , \"Expiry Date\":\"05/09/2021\", \"Purchased Date\":\"03/09/2021\"},\n",
    "          1013 : {\"Name of the Product\":\"Chocolate Cake\"         , \"Quantity\":50 , \"Price\":150.00, \"Expiry Date\":\"04/09/2021\", \"Purchased Date\":\"03/09/2021\"},\n",
    "          1014 : {\"Name of the Product\":\"Rainbow Cake\"           , \"Quantity\":50 , \"Price\":400.00, \"Expiry Date\":\"04/09/2021\", \"Purchased Date\":\"03/09/2021\"},\n",
    "          1015 : {\"Name of the Product\":\"Tomato Lays Chips\"      , \"Quantity\":100, \"Price\":20.00 , \"Expiry Date\":\"30/09/2021\", \"Purchased Date\":\"03/09/2021\"},\n",
    "          1016 : {\"Name of the Product\":\"Onion Lays Chips\"       , \"Quantity\":100, \"Price\":20.00 , \"Expiry Date\":\"30/09/2021\", \"Purchased Date\":\"03/09/2021\"},\n",
    "          1017 : {\"Name of the Product\":\"Small Packet Condiments\", \"Quantity\":50 , \"Price\":75.00 , \"Expiry Date\":\"27/09/2021\", \"Purchased Date\":\"03/09/2021\"},\n",
    "          1018 : {\"Name of the Product\":\"Large Packet Condiments\", \"Quantity\":50 , \"Price\":150.00, \"Expiry Date\":\"28/09/2021\", \"Purchased Date\":\"03/09/2021\"},\n",
    "          1019 : {\"Name of the Product\":\"Tomato Sauces\"          , \"Quantity\":150, \"Price\":50.00 , \"Expiry Date\":\"29/09/2021\", \"Purchased Date\":\"03/09/2021\"},\n",
    "          1020 : {\"Name of the Product\":\"Peanut\"                 , \"Quantity\":100, \"Price\":100.00, \"Expiry Date\":\"27/09/2021\", \"Purchased Date\":\"03/09/2021\"},\n",
    "          1021 : {\"Name of the Product\":\"Almond\"                 , \"Quantity\":50 , \"Price\":350.00, \"Expiry Date\":\"30/09/2021\", \"Purchased Date\":\"03/09/2021\"}}"
   ]
  },
  {
   "cell_type": "code",
   "execution_count": 5,
   "id": "0c456784",
   "metadata": {},
   "outputs": [],
   "source": [
    "import json"
   ]
  },
  {
   "cell_type": "code",
   "execution_count": 6,
   "id": "23634a0e",
   "metadata": {},
   "outputs": [],
   "source": [
    "item = json.dumps(items)"
   ]
  },
  {
   "cell_type": "code",
   "execution_count": 7,
   "id": "2557b16e",
   "metadata": {
    "scrolled": true
   },
   "outputs": [
    {
     "data": {
      "text/plain": [
       "'{\"1001\": {\"Name of the Product\": \"Mango juice\", \"Quantity\": 50, \"Price\": 20.0, \"Expiry Date\": \"10/09/2021\", \"Purchased Date\": \"03/09/2021\"}, \"1002\": {\"Name of the Product\": \"Apple juice\", \"Quantity\": 50, \"Price\": 25.0, \"Expiry Date\": \"10/09/2021\", \"Purchased Date\": \"03/09/2021\"}, \"1003\": {\"Name of the Product\": \"Sugarcane juice\", \"Quantity\": 50, \"Price\": 15.0, \"Expiry Date\": \"10/09/2021\", \"Purchased Date\": \"03/09/2021\"}, \"1004\": {\"Name of the Product\": \"Dairy Milk\", \"Quantity\": 75, \"Price\": 10.0, \"Expiry Date\": \"30/09/2021\", \"Purchased Date\": \"03/09/2021\"}, \"1005\": {\"Name of the Product\": \"Dark Chocolate\", \"Quantity\": 75, \"Price\": 5.0, \"Expiry Date\": \"29/09/2021\", \"Purchased Date\": \"03/09/2021\"}, \"1006\": {\"Name of the Product\": \"White Milk Chocolate\", \"Quantity\": 75, \"Price\": 10.0, \"Expiry Date\": \"29/09/2021\", \"Purchased Date\": \"03/09/2021\"}, \"1007\": {\"Name of the Product\": \"Chocolate Ice Cream\", \"Quantity\": 20, \"Price\": 25.0, \"Expiry Date\": \"25/09/2021\", \"Purchased Date\": \"03/09/2021\"}, \"1008\": {\"Name of the Product\": \"Mango Ice Cream\", \"Quantity\": 20, \"Price\": 20.0, \"Expiry Date\": \"28/09/2021\", \"Purchased Date\": \"03/09/2021\"}, \"1009\": {\"Name of the Product\": \"Orange Ice Cream\", \"Quantity\": 20, \"Price\": 20.0, \"Expiry Date\": \"29/09/2021\", \"Purchased Date\": \"03/09/2021\"}, \"1010\": {\"Name of the Product\": \"Orange juice\", \"Quantity\": 50, \"Price\": 20.0, \"Expiry Date\": \"10/09/2021\", \"Purchased Date\": \"03/09/2021\"}, \"1011\": {\"Name of the Product\": \"Bread\", \"Quantity\": 25, \"Price\": 25.0, \"Expiry Date\": \"06/09/2021\", \"Purchased Date\": \"03/09/2021\"}, \"1012\": {\"Name of the Product\": \"Rolls\", \"Quantity\": 25, \"Price\": 30.0, \"Expiry Date\": \"05/09/2021\", \"Purchased Date\": \"03/09/2021\"}, \"1013\": {\"Name of the Product\": \"Chocolate Cake\", \"Quantity\": 50, \"Price\": 150.0, \"Expiry Date\": \"04/09/2021\", \"Purchased Date\": \"03/09/2021\"}, \"1014\": {\"Name of the Product\": \"Rainbow Cake\", \"Quantity\": 50, \"Price\": 400.0, \"Expiry Date\": \"04/09/2021\", \"Purchased Date\": \"03/09/2021\"}, \"1015\": {\"Name of the Product\": \"Tomato Lays Chips\", \"Quantity\": 100, \"Price\": 20.0, \"Expiry Date\": \"30/09/2021\", \"Purchased Date\": \"03/09/2021\"}, \"1016\": {\"Name of the Product\": \"Onion Lays Chips\", \"Quantity\": 100, \"Price\": 20.0, \"Expiry Date\": \"30/09/2021\", \"Purchased Date\": \"03/09/2021\"}, \"1017\": {\"Name of the Product\": \"Small Packet Condiments\", \"Quantity\": 50, \"Price\": 75.0, \"Expiry Date\": \"27/09/2021\", \"Purchased Date\": \"03/09/2021\"}, \"1018\": {\"Name of the Product\": \"Large Packet Condiments\", \"Quantity\": 50, \"Price\": 150.0, \"Expiry Date\": \"28/09/2021\", \"Purchased Date\": \"03/09/2021\"}, \"1019\": {\"Name of the Product\": \"Tomato Sauces\", \"Quantity\": 150, \"Price\": 50.0, \"Expiry Date\": \"29/09/2021\", \"Purchased Date\": \"03/09/2021\"}, \"1020\": {\"Name of the Product\": \"Peanut\", \"Quantity\": 100, \"Price\": 100.0, \"Expiry Date\": \"27/09/2021\", \"Purchased Date\": \"03/09/2021\"}, \"1021\": {\"Name of the Product\": \"Almond\", \"Quantity\": 50, \"Price\": 350.0, \"Expiry Date\": \"30/09/2021\", \"Purchased Date\": \"03/09/2021\"}}'"
      ]
     },
     "execution_count": 7,
     "metadata": {},
     "output_type": "execute_result"
    }
   ],
   "source": [
    "item"
   ]
  },
  {
   "cell_type": "code",
   "execution_count": 8,
   "id": "d25b6dbf",
   "metadata": {},
   "outputs": [],
   "source": [
    "file = open(\"Items Details.json\",\"w\")\n",
    "file.write(item)\n",
    "file.close()"
   ]
  },
  {
   "cell_type": "code",
   "execution_count": 9,
   "id": "d1a95085",
   "metadata": {},
   "outputs": [],
   "source": [
    "file = open(\"Items Details.json\",\"r\")\n",
    "items = file.read()\n",
    "file.close()\n",
    "\n",
    "items_details = json.loads(items)"
   ]
  },
  {
   "cell_type": "code",
   "execution_count": 10,
   "id": "58d97b3d",
   "metadata": {
    "scrolled": true
   },
   "outputs": [
    {
     "data": {
      "text/plain": [
       "{'1001': {'Name of the Product': 'Mango juice',\n",
       "  'Quantity': 50,\n",
       "  'Price': 20.0,\n",
       "  'Expiry Date': '10/09/2021',\n",
       "  'Purchased Date': '03/09/2021'},\n",
       " '1002': {'Name of the Product': 'Apple juice',\n",
       "  'Quantity': 50,\n",
       "  'Price': 25.0,\n",
       "  'Expiry Date': '10/09/2021',\n",
       "  'Purchased Date': '03/09/2021'},\n",
       " '1003': {'Name of the Product': 'Sugarcane juice',\n",
       "  'Quantity': 50,\n",
       "  'Price': 15.0,\n",
       "  'Expiry Date': '10/09/2021',\n",
       "  'Purchased Date': '03/09/2021'},\n",
       " '1004': {'Name of the Product': 'Dairy Milk',\n",
       "  'Quantity': 75,\n",
       "  'Price': 10.0,\n",
       "  'Expiry Date': '30/09/2021',\n",
       "  'Purchased Date': '03/09/2021'},\n",
       " '1005': {'Name of the Product': 'Dark Chocolate',\n",
       "  'Quantity': 75,\n",
       "  'Price': 5.0,\n",
       "  'Expiry Date': '29/09/2021',\n",
       "  'Purchased Date': '03/09/2021'},\n",
       " '1006': {'Name of the Product': 'White Milk Chocolate',\n",
       "  'Quantity': 75,\n",
       "  'Price': 10.0,\n",
       "  'Expiry Date': '29/09/2021',\n",
       "  'Purchased Date': '03/09/2021'},\n",
       " '1007': {'Name of the Product': 'Chocolate Ice Cream',\n",
       "  'Quantity': 20,\n",
       "  'Price': 25.0,\n",
       "  'Expiry Date': '25/09/2021',\n",
       "  'Purchased Date': '03/09/2021'},\n",
       " '1008': {'Name of the Product': 'Mango Ice Cream',\n",
       "  'Quantity': 20,\n",
       "  'Price': 20.0,\n",
       "  'Expiry Date': '28/09/2021',\n",
       "  'Purchased Date': '03/09/2021'},\n",
       " '1009': {'Name of the Product': 'Orange Ice Cream',\n",
       "  'Quantity': 20,\n",
       "  'Price': 20.0,\n",
       "  'Expiry Date': '29/09/2021',\n",
       "  'Purchased Date': '03/09/2021'},\n",
       " '1010': {'Name of the Product': 'Orange juice',\n",
       "  'Quantity': 50,\n",
       "  'Price': 20.0,\n",
       "  'Expiry Date': '10/09/2021',\n",
       "  'Purchased Date': '03/09/2021'},\n",
       " '1011': {'Name of the Product': 'Bread',\n",
       "  'Quantity': 25,\n",
       "  'Price': 25.0,\n",
       "  'Expiry Date': '06/09/2021',\n",
       "  'Purchased Date': '03/09/2021'},\n",
       " '1012': {'Name of the Product': 'Rolls',\n",
       "  'Quantity': 25,\n",
       "  'Price': 30.0,\n",
       "  'Expiry Date': '05/09/2021',\n",
       "  'Purchased Date': '03/09/2021'},\n",
       " '1013': {'Name of the Product': 'Chocolate Cake',\n",
       "  'Quantity': 50,\n",
       "  'Price': 150.0,\n",
       "  'Expiry Date': '04/09/2021',\n",
       "  'Purchased Date': '03/09/2021'},\n",
       " '1014': {'Name of the Product': 'Rainbow Cake',\n",
       "  'Quantity': 50,\n",
       "  'Price': 400.0,\n",
       "  'Expiry Date': '04/09/2021',\n",
       "  'Purchased Date': '03/09/2021'},\n",
       " '1015': {'Name of the Product': 'Tomato Lays Chips',\n",
       "  'Quantity': 100,\n",
       "  'Price': 20.0,\n",
       "  'Expiry Date': '30/09/2021',\n",
       "  'Purchased Date': '03/09/2021'},\n",
       " '1016': {'Name of the Product': 'Onion Lays Chips',\n",
       "  'Quantity': 100,\n",
       "  'Price': 20.0,\n",
       "  'Expiry Date': '30/09/2021',\n",
       "  'Purchased Date': '03/09/2021'},\n",
       " '1017': {'Name of the Product': 'Small Packet Condiments',\n",
       "  'Quantity': 50,\n",
       "  'Price': 75.0,\n",
       "  'Expiry Date': '27/09/2021',\n",
       "  'Purchased Date': '03/09/2021'},\n",
       " '1018': {'Name of the Product': 'Large Packet Condiments',\n",
       "  'Quantity': 50,\n",
       "  'Price': 150.0,\n",
       "  'Expiry Date': '28/09/2021',\n",
       "  'Purchased Date': '03/09/2021'},\n",
       " '1019': {'Name of the Product': 'Tomato Sauces',\n",
       "  'Quantity': 150,\n",
       "  'Price': 50.0,\n",
       "  'Expiry Date': '29/09/2021',\n",
       "  'Purchased Date': '03/09/2021'},\n",
       " '1020': {'Name of the Product': 'Peanut',\n",
       "  'Quantity': 100,\n",
       "  'Price': 100.0,\n",
       "  'Expiry Date': '27/09/2021',\n",
       "  'Purchased Date': '03/09/2021'},\n",
       " '1021': {'Name of the Product': 'Almond',\n",
       "  'Quantity': 50,\n",
       "  'Price': 350.0,\n",
       "  'Expiry Date': '30/09/2021',\n",
       "  'Purchased Date': '03/09/2021'}}"
      ]
     },
     "execution_count": 10,
     "metadata": {},
     "output_type": "execute_result"
    }
   ],
   "source": [
    "items_details"
   ]
  },
  {
   "cell_type": "code",
   "execution_count": 11,
   "id": "3e497f01",
   "metadata": {
    "scrolled": true
   },
   "outputs": [],
   "source": [
    "#Add New Items Details into Inventory Management System"
   ]
  },
  {
   "cell_type": "code",
   "execution_count": 12,
   "id": "5dabb9a5",
   "metadata": {},
   "outputs": [
    {
     "name": "stdout",
     "output_type": "stream",
     "text": [
      "Did the Product ID Exist in Inventory System <yes/no> : yes\n",
      "Enter the Product ID: 1008\n",
      "The Name of the Product is Mango Ice Cream\n",
      "Do the Purchased and Expiry date should be Changed <yes/no> : no\n",
      "Number of Quantity Purchased for Shop is: 15\n"
     ]
    }
   ],
   "source": [
    "check = input(\"Did the Product ID Exist in Inventory System <yes/no> : \")\n",
    "\n",
    "if (check == \"yes\"):\n",
    "    \n",
    "    product_id = input(\"Enter the Product ID: \")\n",
    "    for i in items_details.keys():\n",
    "        \n",
    "        if (product_id==i):\n",
    "            print(\"The Name of the Product is\", items_details[i]['Name of the Product'])\n",
    "            name = items_details[i]['Name of the Product']\n",
    "            price = items_details[i]['Price']\n",
    "            change_date = input(\"Do the Purchased and Expiry date should be Changed <yes/no> : \")\n",
    "            \n",
    "            if(change_date == \"yes\"):\n",
    "                purchased_date = input(\"Enter the Purchased Date in DD/MM/YYYY format: \")\n",
    "                expiry_date = input(\"Enter the Expiry Date in DD/MM/YYYY format: \")\n",
    "            else:\n",
    "                purchased_date = items_details[i]['Purchased Date']\n",
    "                expiry_date = items_details[i]['Expiry Date']\n",
    "                    \n",
    "            quantity=float(items_details[i]['Quantity'])\n",
    "            add_quantity= float(input(\"Number of Quantity Purchased for Shop is: \"))\n",
    "            items_details[i] = {'Name of the Product': name, 'Quantity': add_quantity + quantity, 'Price': price, 'Expiry Date': expiry_date, 'Purchased Date': purchased_date}\n",
    "            \n",
    "            item = json.dumps(items_details)\n",
    "            \n",
    "            file = open(\"Items Details.json\",\"w\")\n",
    "            file.write(item)\n",
    "            file.close()\n",
    "        \n",
    "else:\n",
    "    \n",
    "    new_product_id = input(\" Enter the New Product ID to add into Inventory System: \")\n",
    "    name = input(\"Enter the Name of the Product: \")\n",
    "    quantity = int(input(\"Enter the Number of Quantity: \"))\n",
    "    price = float(input(\"Enter the Price of the New Product: \"))\n",
    "    expiry_date = input(\"Enter the Expiry Date of the Product in DD/MM/YYYY format: \")\n",
    "    purchased_date = input(\"Enter the Purchased Date of the Product in DD/MM/YYYY format: \")\n",
    "        \n",
    "    items_details[new_product_id] = {'Name of the Product': name, 'Quantity': quantity, 'Price': price, 'Expiry Date': expiry_date, 'Purchased Date': purchased_date}\n",
    "    \n",
    "    item = json.dumps(items_details)\n",
    "    \n",
    "    file = open(\"Items Details.json\",\"w\")\n",
    "    file.write(item)\n",
    "    file.close()\n",
    "        "
   ]
  },
  {
   "cell_type": "code",
   "execution_count": 23,
   "id": "c99fd927",
   "metadata": {
    "scrolled": false
   },
   "outputs": [
    {
     "data": {
      "text/plain": [
       "{'1001': {'Name of the Product': 'Mango juice',\n",
       "  'Quantity': 50,\n",
       "  'Price': 20.0,\n",
       "  'Expiry Date': '10/09/2021',\n",
       "  'Purchased Date': '03/09/2021'},\n",
       " '1002': {'Name of the Product': 'Apple juice',\n",
       "  'Quantity': 50,\n",
       "  'Price': 25.0,\n",
       "  'Expiry Date': '10/09/2021',\n",
       "  'Purchased Date': '03/09/2021'},\n",
       " '1003': {'Name of the Product': 'Sugarcane juice',\n",
       "  'Quantity': 50,\n",
       "  'Price': 15.0,\n",
       "  'Expiry Date': '10/09/2021',\n",
       "  'Purchased Date': '03/09/2021'},\n",
       " '1004': {'Name of the Product': 'Dairy Milk',\n",
       "  'Quantity': 75,\n",
       "  'Price': 10.0,\n",
       "  'Expiry Date': '30/09/2021',\n",
       "  'Purchased Date': '03/09/2021'},\n",
       " '1005': {'Name of the Product': 'Dark Chocolate',\n",
       "  'Quantity': 75,\n",
       "  'Price': 5.0,\n",
       "  'Expiry Date': '29/09/2021',\n",
       "  'Purchased Date': '03/09/2021'},\n",
       " '1006': {'Name of the Product': 'White Milk Chocolate',\n",
       "  'Quantity': 75,\n",
       "  'Price': 10.0,\n",
       "  'Expiry Date': '29/09/2021',\n",
       "  'Purchased Date': '03/09/2021'},\n",
       " '1007': {'Name of the Product': 'Chocolate Ice Cream',\n",
       "  'Quantity': 20,\n",
       "  'Price': 25.0,\n",
       "  'Expiry Date': '25/09/2021',\n",
       "  'Purchased Date': '03/09/2021'},\n",
       " '1008': {'Name of the Product': 'Mango Ice Cream',\n",
       "  'Quantity': 35.0,\n",
       "  'Price': 20.0,\n",
       "  'Expiry Date': '28/09/2021',\n",
       "  'Purchased Date': '03/09/2021'},\n",
       " '1009': {'Name of the Product': 'Orange Ice Cream',\n",
       "  'Quantity': 20,\n",
       "  'Price': 20.0,\n",
       "  'Expiry Date': '29/09/2021',\n",
       "  'Purchased Date': '03/09/2021'},\n",
       " '1010': {'Name of the Product': 'Orange juice',\n",
       "  'Quantity': 50,\n",
       "  'Price': 20.0,\n",
       "  'Expiry Date': '10/09/2021',\n",
       "  'Purchased Date': '03/09/2021'},\n",
       " '1011': {'Name of the Product': 'Bread',\n",
       "  'Quantity': 25,\n",
       "  'Price': 25.0,\n",
       "  'Expiry Date': '06/09/2021',\n",
       "  'Purchased Date': '03/09/2021'},\n",
       " '1012': {'Name of the Product': 'Rolls',\n",
       "  'Quantity': 25,\n",
       "  'Price': 30.0,\n",
       "  'Expiry Date': '05/09/2021',\n",
       "  'Purchased Date': '03/09/2021'},\n",
       " '1013': {'Name of the Product': 'Chocolate Cake',\n",
       "  'Quantity': 50,\n",
       "  'Price': 150.0,\n",
       "  'Expiry Date': '04/09/2021',\n",
       "  'Purchased Date': '03/09/2021'},\n",
       " '1014': {'Name of the Product': 'Rainbow Cake',\n",
       "  'Quantity': 50,\n",
       "  'Price': 400.0,\n",
       "  'Expiry Date': '04/09/2021',\n",
       "  'Purchased Date': '03/09/2021'},\n",
       " '1015': {'Name of the Product': 'Tomato Lays Chips',\n",
       "  'Quantity': 100,\n",
       "  'Price': 20.0,\n",
       "  'Expiry Date': '30/09/2021',\n",
       "  'Purchased Date': '03/09/2021'},\n",
       " '1016': {'Name of the Product': 'Onion Lays Chips',\n",
       "  'Quantity': 100,\n",
       "  'Price': 20.0,\n",
       "  'Expiry Date': '30/09/2021',\n",
       "  'Purchased Date': '03/09/2021'},\n",
       " '1017': {'Name of the Product': 'Small Packet Condiments',\n",
       "  'Quantity': 50,\n",
       "  'Price': 75.0,\n",
       "  'Expiry Date': '27/09/2021',\n",
       "  'Purchased Date': '03/09/2021'},\n",
       " '1018': {'Name of the Product': 'Large Packet Condiments',\n",
       "  'Quantity': 50,\n",
       "  'Price': 150.0,\n",
       "  'Expiry Date': '28/09/2021',\n",
       "  'Purchased Date': '03/09/2021'},\n",
       " '1019': {'Name of the Product': 'Tomato Sauces',\n",
       "  'Quantity': 150,\n",
       "  'Price': 50.0,\n",
       "  'Expiry Date': '29/09/2021',\n",
       "  'Purchased Date': '03/09/2021'},\n",
       " '1020': {'Name of the Product': 'Peanut',\n",
       "  'Quantity': 100,\n",
       "  'Price': 100.0,\n",
       "  'Expiry Date': '27/09/2021',\n",
       "  'Purchased Date': '03/09/2021'},\n",
       " '1021': {'Name of the Product': 'Almond',\n",
       "  'Quantity': 50,\n",
       "  'Price': 350.0,\n",
       "  'Expiry Date': '30/09/2021',\n",
       "  'Purchased Date': '03/09/2021'}}"
      ]
     },
     "execution_count": 23,
     "metadata": {},
     "output_type": "execute_result"
    }
   ],
   "source": [
    "items_details"
   ]
  },
  {
   "cell_type": "code",
   "execution_count": 14,
   "id": "48aa9308",
   "metadata": {},
   "outputs": [],
   "source": [
    "# Deleting the Product"
   ]
  },
  {
   "cell_type": "code",
   "execution_count": 15,
   "id": "b4122854",
   "metadata": {
    "scrolled": true
   },
   "outputs": [
    {
     "name": "stdout",
     "output_type": "stream",
     "text": [
      "Do any of the Product to be Deleted <yes/no> : no\n"
     ]
    }
   ],
   "source": [
    "file = open(\"Items Details.json\",\"r\")\n",
    "items = file.read()\n",
    "file.close()\n",
    "\n",
    "items_details = json.loads(items)\n",
    "\n",
    "delete_product_id = input(\"Do any of the Product to be Deleted <yes/no> : \")\n",
    "\n",
    "if(delete_product_id == \"yes\"):\n",
    "    erase_id = input(\"Enter the Product ID to be Deleted: \")\n",
    "    del items_details[erase_id]    "
   ]
  },
  {
   "cell_type": "code",
   "execution_count": 16,
   "id": "f159f492",
   "metadata": {},
   "outputs": [],
   "source": [
    "# Checking Whether the Products available in Shop"
   ]
  },
  {
   "cell_type": "code",
   "execution_count": 21,
   "id": "a91784e2",
   "metadata": {},
   "outputs": [
    {
     "name": "stdout",
     "output_type": "stream",
     "text": [
      "Enter the Product ID to availabe Quantity: 1009\n",
      "Enter the Number of Quantity Customer require: 120\n",
      "The Product is not Available as required by Customer\n",
      "The Availability is:  20\n"
     ]
    }
   ],
   "source": [
    "check_product_id = input(\"Enter the Product ID to availabe Quantity: \")\n",
    "check_quantity = int(input(\"Enter the Number of Quantity Customer require: \"))\n",
    "\n",
    "if(check_product_id in items_details.keys()):\n",
    "    if (check_quantity <= items_details[check_product_id]['Quantity']):\n",
    "        print(\"Product is Available\")\n",
    "        print(\"The Availability is: \",items_details[check_product_id]['Quantity'])\n",
    "        \n",
    "    else:\n",
    "        print(\"The Product is not Available as required by Customer\")\n",
    "        print(\"The Availability is: \",items_details[check_product_id]['Quantity'])\n",
    "        \n",
    "else:\n",
    "    print(\"Enter the Valid product ID\")"
   ]
  }
 ],
 "metadata": {
  "kernelspec": {
   "display_name": "Python 3",
   "language": "python",
   "name": "python3"
  },
  "language_info": {
   "codemirror_mode": {
    "name": "ipython",
    "version": 3
   },
   "file_extension": ".py",
   "mimetype": "text/x-python",
   "name": "python",
   "nbconvert_exporter": "python",
   "pygments_lexer": "ipython3",
   "version": "3.8.8"
  }
 },
 "nbformat": 4,
 "nbformat_minor": 5
}
